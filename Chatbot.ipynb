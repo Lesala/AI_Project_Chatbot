import pandas as pd

# Load your original dataset
df = pd.read_csv("/content/Copy of faqs_data.csv")
# Display the first few rows to verify loading and inspect the data
display(df.head())
